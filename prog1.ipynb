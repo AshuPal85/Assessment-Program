{
 "cells": [
  {
   "cell_type": "code",
   "execution_count": 1,
   "id": "849ac296",
   "metadata": {},
   "outputs": [
    {
     "name": "stdout",
     "output_type": "stream",
     "text": [
      "Result: 25.0\n"
     ]
    }
   ],
   "source": [
    "class Calculator:\n",
    "    def __init__(self, a: float, b: float, operation: str):\n",
    "        try:\n",
    "            self.a = float(a)\n",
    "            self.b = float(b)\n",
    "        except ValueError:\n",
    "            raise ValueError(\"Inputs 'a' and 'b' must be numbers.\")\n",
    "        \n",
    "        self.operation = operation.lower()\n",
    "\n",
    "    def calculate(self):\n",
    "        if self.operation == 'add':\n",
    "            return self.a + self.b\n",
    "        elif self.operation == 'subtract':\n",
    "            return self.a - self.b\n",
    "        elif self.operation == 'multiply':\n",
    "            return self.a * self.b\n",
    "        elif self.operation == 'divide':\n",
    "            if self.b != 0:\n",
    "                return self.a / self.b\n",
    "            else:\n",
    "                return \"Error: Division by zero\"\n",
    "        elif self.operation == 'modulo':\n",
    "            if self.b != 0:\n",
    "                return self.a % self.b\n",
    "            else:\n",
    "                return \"Error: Division by zero in modulo\"\n",
    "        elif self.operation == 'power':\n",
    "            return self.a ** self.b\n",
    "        elif self.operation == 'floor_division':\n",
    "            if self.b != 0:\n",
    "                return self.a // self.b\n",
    "            else:\n",
    "                return \"Error: Division by zero in floor division\"\n",
    "        else:\n",
    "            return f\"Error: Unknown operation '{self.operation}'. Try one of: add, subtract, multiply, divide, modulo, power, floor_division\"\n",
    "\n",
    "# Example usage\n",
    "a = 5\n",
    "b = 2\n",
    "operation = 'power'\n",
    "\n",
    "calc = Calculator(a, b, operation)\n",
    "result = calc.calculate()\n",
    "print(f\"Result: {result}\")\n"
   ]
  },
  {
   "cell_type": "code",
   "execution_count": null,
   "id": "a74407dc",
   "metadata": {},
   "outputs": [],
   "source": []
  }
 ],
 "metadata": {
  "kernelspec": {
   "display_name": "Python 3 (ipykernel)",
   "language": "python",
   "name": "python3"
  },
  "language_info": {
   "codemirror_mode": {
    "name": "ipython",
    "version": 3
   },
   "file_extension": ".py",
   "mimetype": "text/x-python",
   "name": "python",
   "nbconvert_exporter": "python",
   "pygments_lexer": "ipython3",
   "version": "3.10.9"
  }
 },
 "nbformat": 4,
 "nbformat_minor": 5
}
