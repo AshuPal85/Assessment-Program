{
 "cells": [
  {
   "cell_type": "code",
   "execution_count": 1,
   "id": "296d0028",
   "metadata": {},
   "outputs": [
    {
     "name": "stdout",
     "output_type": "stream",
     "text": [
      "Enter a positive integer: 9\n",
      "Output: 1, 3, 5, 7, 9, 11, 13, 15, 17\n"
     ]
    }
   ],
   "source": [
    "def generate_odd_series(a: int):\n",
    "    # Check for valid input\n",
    "    if a <= 0:\n",
    "        return \"Please enter a positive integer.\"\n",
    "\n",
    "    series = [2 * i + 1 for i in range(a)]  # Generate odd numbers\n",
    "    return ', '.join(map(str, series))\n",
    "\n",
    "# Example usage\n",
    "try:\n",
    "    a = int(input(\"Enter a positive integer: \"))\n",
    "    output = generate_odd_series(a)\n",
    "    print(\"Output:\", output)\n",
    "except ValueError:\n",
    "    print(\"Invalid input. Please enter a valid integer.\")\n"
   ]
  },
  {
   "cell_type": "code",
   "execution_count": 2,
   "id": "a03ea915",
   "metadata": {},
   "outputs": [
    {
     "name": "stdout",
     "output_type": "stream",
     "text": [
      "Enter a positive integer: 11\n",
      "Output: 1, 3, 5, 7, 9, 11, 13, 15, 17, 19, 21\n"
     ]
    }
   ],
   "source": [
    "def generate_odd_series(a: int):\n",
    "    # Generate the first 'a' odd numbers: 1, 3, 5, 7, ...\n",
    "    series = [2 * i + 1 for i in range(a)]\n",
    "    return ', '.join(map(str, series))\n",
    "\n",
    "# Input from user\n",
    "try:\n",
    "    a = int(input(\"Enter a positive integer: \"))\n",
    "    if a <= 0:\n",
    "        print(\"Please enter a number greater than 0.\")\n",
    "    else:\n",
    "        result = generate_odd_series(a)\n",
    "        print(\"Output:\", result)\n",
    "except ValueError:\n",
    "    print(\"Invalid input. Please enter a valid integer.\")\n"
   ]
  },
  {
   "cell_type": "code",
   "execution_count": null,
   "id": "ec473d2b",
   "metadata": {},
   "outputs": [],
   "source": []
  }
 ],
 "metadata": {
  "kernelspec": {
   "display_name": "Python 3 (ipykernel)",
   "language": "python",
   "name": "python3"
  },
  "language_info": {
   "codemirror_mode": {
    "name": "ipython",
    "version": 3
   },
   "file_extension": ".py",
   "mimetype": "text/x-python",
   "name": "python",
   "nbconvert_exporter": "python",
   "pygments_lexer": "ipython3",
   "version": "3.10.9"
  }
 },
 "nbformat": 4,
 "nbformat_minor": 5
}
