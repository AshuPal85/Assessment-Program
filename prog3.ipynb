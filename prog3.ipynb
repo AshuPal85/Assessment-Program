{
 "cells": [
  {
   "cell_type": "code",
   "execution_count": 1,
   "id": "1381f7c2",
   "metadata": {},
   "outputs": [
    {
     "name": "stdout",
     "output_type": "stream",
     "text": [
      "Enter a positive integer: 5\n",
      "Output: 1, 3, 5, 7, 9\n"
     ]
    }
   ],
   "source": [
    "def generate_custom_odd_series(a: int):\n",
    "    if a <= 0:\n",
    "        return \"Please enter a number greater than 0.\"\n",
    "    \n",
    "    # Adjust the number of terms based on pattern:\n",
    "    count = a if a % 2 == 1 else a - 1  # Use previous odd number if even\n",
    "    \n",
    "    series = [2 * i + 1 for i in range(count)]\n",
    "    return ', '.join(map(str, series))\n",
    "\n",
    "# Example usage\n",
    "try:\n",
    "    a = int(input(\"Enter a positive integer: \"))\n",
    "    output = generate_custom_odd_series(a)\n",
    "    print(\"Output:\", output)\n",
    "except ValueError:\n",
    "    print(\"Invalid input. Please enter a valid integer.\")\n"
   ]
  },
  {
   "cell_type": "code",
   "execution_count": null,
   "id": "eebb3924",
   "metadata": {},
   "outputs": [],
   "source": []
  }
 ],
 "metadata": {
  "kernelspec": {
   "display_name": "Python 3 (ipykernel)",
   "language": "python",
   "name": "python3"
  },
  "language_info": {
   "codemirror_mode": {
    "name": "ipython",
    "version": 3
   },
   "file_extension": ".py",
   "mimetype": "text/x-python",
   "name": "python",
   "nbconvert_exporter": "python",
   "pygments_lexer": "ipython3",
   "version": "3.10.9"
  }
 },
 "nbformat": 4,
 "nbformat_minor": 5
}
