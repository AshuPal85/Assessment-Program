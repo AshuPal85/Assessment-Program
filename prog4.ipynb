{
 "cells": [
  {
   "cell_type": "code",
   "execution_count": 1,
   "id": "0b455f14",
   "metadata": {},
   "outputs": [
    {
     "name": "stdout",
     "output_type": "stream",
     "text": [
      "Output:\n",
      "{1: 11, 2: 8, 3: 4, 4: 4, 5: 3, 6: 2, 7: 0, 8: 1, 9: 1}\n"
     ]
    }
   ],
   "source": [
    "def count_multiples(numbers):\n",
    "    # Initialize dictionary with keys 1 to 9, all values set to 0\n",
    "    result = {i: 0 for i in range(1, 10)}\n",
    "\n",
    "    # Loop through each number in the input list\n",
    "    for num in numbers:\n",
    "        for i in range(1, 10):\n",
    "            if num % i == 0:\n",
    "                result[i] += 1\n",
    "    \n",
    "    return result\n",
    "\n",
    "# Example input\n",
    "input_list = [1, 2, 8, 9, 12, 46, 76, 82, 15, 20, 30]\n",
    "\n",
    "# Run function and print output\n",
    "output = count_multiples(input_list)\n",
    "print(\"Output:\")\n",
    "print(output)\n"
   ]
  },
  {
   "cell_type": "code",
   "execution_count": null,
   "id": "6600058d",
   "metadata": {},
   "outputs": [],
   "source": []
  }
 ],
 "metadata": {
  "kernelspec": {
   "display_name": "Python 3 (ipykernel)",
   "language": "python",
   "name": "python3"
  },
  "language_info": {
   "codemirror_mode": {
    "name": "ipython",
    "version": 3
   },
   "file_extension": ".py",
   "mimetype": "text/x-python",
   "name": "python",
   "nbconvert_exporter": "python",
   "pygments_lexer": "ipython3",
   "version": "3.10.9"
  }
 },
 "nbformat": 4,
 "nbformat_minor": 5
}
